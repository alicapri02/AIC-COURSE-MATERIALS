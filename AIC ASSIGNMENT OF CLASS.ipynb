{
 "cells": [
  {
   "cell_type": "markdown",
   "id": "0d28ff08",
   "metadata": {},
   "source": [
    "# ASSIGNMENT ON :\n",
    " * HOW TO MAKE CLASS \n",
    " * CONCEPT OF OVERLOADING"
   ]
  },
  {
   "cell_type": "markdown",
   "id": "661d311e",
   "metadata": {},
   "source": [
    "ALI ISMAIL HUSSAIN<br>\n",
    "Roll No. IOT048687<br>\n",
    "Batch 36 - Online<br>\n",
    "Instructor : Sir Qasim"
   ]
  },
  {
   "cell_type": "markdown",
   "id": "2881424b",
   "metadata": {},
   "source": [
    "### Task 1:"
   ]
  },
  {
   "cell_type": "markdown",
   "id": "5bcd4f61",
   "metadata": {},
   "source": [
    "1. Import mother and father attribute\n",
    "2. Add two new attributes in the child constructor"
   ]
  },
  {
   "cell_type": "code",
   "execution_count": 106,
   "id": "188027fc",
   "metadata": {},
   "outputs": [],
   "source": [
    "# Create father class\n",
    "\n",
    "class Father():\n",
    "    def __init__(self,name):\n",
    "        self.name = name\n",
    "        self.height = None\n",
    "        self.skill = None\n",
    "        \n",
    "    def showSkill(self):\n",
    "        return f\"I can teach {self.skill}\"\n",
    "    \n",
    "    def showAge(self):\n",
    "        return self.age \n",
    "f1 = Father(\"father1\")"
   ]
  },
  {
   "cell_type": "code",
   "execution_count": 107,
   "id": "ee0b55c9",
   "metadata": {},
   "outputs": [],
   "source": [
    "# create mother class\n",
    "\n",
    "class Mother():\n",
    "    def __init__(this,name):\n",
    "        this.name = name\n",
    "        this.speak = None\n",
    "        this.make = None\n",
    "        \n",
    "    def showMake(this):\n",
    "        return f\"I can make  {this.make}\"\n",
    "    \n",
    "    def showListen(this):\n",
    "        return f\"I can speak {this.speak}\"\n",
    "    \n",
    "m1 = Mother('mother1')"
   ]
  },
  {
   "cell_type": "code",
   "execution_count": 108,
   "id": "0a1b35b4",
   "metadata": {},
   "outputs": [],
   "source": [
    "# Create child class from Father & Mother Classes\n",
    "\n",
    "class Child(Father, Mother):\n",
    "    def __init__(self,name):\n",
    "        Father.__init__(self, name)\n",
    "        Mother.__init__(self, name)\n",
    "        self.address = None\n",
    "        self.qualification = None\n",
    "        \n",
    "c1 = Child('child')"
   ]
  },
  {
   "cell_type": "code",
   "execution_count": 109,
   "id": "c366d00c",
   "metadata": {},
   "outputs": [],
   "source": [
    "# Printing Attributes and Methods of Father, Mother and Child Objects"
   ]
  },
  {
   "cell_type": "code",
   "execution_count": 110,
   "id": "bc4aef84",
   "metadata": {},
   "outputs": [
    {
     "name": "stdout",
     "output_type": "stream",
     "text": [
      "['height', 'name', 'showAge', 'showSkill', 'skill']\n"
     ]
    }
   ],
   "source": [
    "print(list(i for i in dir(f1) if \"__\" not in i))"
   ]
  },
  {
   "cell_type": "code",
   "execution_count": 111,
   "id": "45653bdd",
   "metadata": {},
   "outputs": [
    {
     "name": "stdout",
     "output_type": "stream",
     "text": [
      "['make', 'name', 'showListen', 'showMake', 'speak']\n"
     ]
    }
   ],
   "source": [
    "print(list(i for i in dir(m1) if \"__\" not in i))"
   ]
  },
  {
   "cell_type": "code",
   "execution_count": 112,
   "id": "5869c676",
   "metadata": {},
   "outputs": [
    {
     "name": "stdout",
     "output_type": "stream",
     "text": [
      "['address', 'height', 'make', 'name', 'qualification', 'showAge', 'showListen', 'showMake', 'showSkill', 'skill', 'speak']\n"
     ]
    }
   ],
   "source": [
    "print(list(i for i in dir(c1) if \"__\" not in i))"
   ]
  },
  {
   "cell_type": "markdown",
   "id": "3b99c4ff",
   "metadata": {},
   "source": [
    "### Task 2:"
   ]
  },
  {
   "cell_type": "markdown",
   "id": "ba06d913",
   "metadata": {},
   "source": [
    "Create operator overloading"
   ]
  },
  {
   "cell_type": "code",
   "execution_count": 113,
   "id": "89386827",
   "metadata": {},
   "outputs": [],
   "source": [
    "# Create a class\n",
    "\n",
    "class Journal():\n",
    "    def __init__(self, price):\n",
    "        self.price = price\n",
    "        \n",
    "   # Operator Overloading\n",
    "    def __add__(self, other):\n",
    "        return self.price + other.price "
   ]
  },
  {
   "cell_type": "code",
   "execution_count": 114,
   "id": "f23757c4",
   "metadata": {},
   "outputs": [],
   "source": [
    "# Create objects from class\n",
    "\n",
    "Journal1 = Journal(700)\n",
    "Journal2 = Journal(950)"
   ]
  },
  {
   "cell_type": "code",
   "execution_count": 115,
   "id": "7b04b678",
   "metadata": {},
   "outputs": [
    {
     "name": "stdout",
     "output_type": "stream",
     "text": [
      "1650\n"
     ]
    }
   ],
   "source": [
    "print(Journal1.price + Journal2.price)     # Addition"
   ]
  },
  {
   "cell_type": "code",
   "execution_count": 116,
   "id": "b69965ee",
   "metadata": {},
   "outputs": [
    {
     "name": "stdout",
     "output_type": "stream",
     "text": [
      "1650\n"
     ]
    }
   ],
   "source": [
    "print(Journal1 + Journal2)                 # Operator Overloading"
   ]
  }
 ],
 "metadata": {
  "kernelspec": {
   "display_name": "Python 3.10.3 64-bit",
   "language": "python",
   "name": "python3"
  },
  "language_info": {
   "codemirror_mode": {
    "name": "ipython",
    "version": 3
   },
   "file_extension": ".py",
   "mimetype": "text/x-python",
   "name": "python",
   "nbconvert_exporter": "python",
   "pygments_lexer": "ipython3",
   "version": "3.10.3"
  },
  "vscode": {
   "interpreter": {
    "hash": "ce63596ae0d914614267ce4c189bcfd59baa2bf3c3f6873135d1f4b6f6afabd2"
   }
  }
 },
 "nbformat": 4,
 "nbformat_minor": 5
}
